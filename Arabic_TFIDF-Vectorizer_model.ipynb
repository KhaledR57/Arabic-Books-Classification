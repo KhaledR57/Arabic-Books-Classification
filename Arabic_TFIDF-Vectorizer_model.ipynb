{
 "cells": [
  {
   "cell_type": "code",
   "execution_count": 1,
   "metadata": {},
   "outputs": [],
   "source": [
    "import numpy as np\n",
    "import pandas as pd\n",
    "import re\n",
    "from sklearn.feature_extraction.text import TfidfVectorizer"
   ]
  },
  {
   "cell_type": "code",
   "execution_count": 2,
   "metadata": {},
   "outputs": [],
   "source": [
    "data = pd.read_csv('scrapping.csv',encoding = \"utf-8\")"
   ]
  },
  {
   "cell_type": "code",
   "execution_count": 3,
   "metadata": {},
   "outputs": [],
   "source": [
    "columns = ['Author', 'title', 'category',  'links', 'no_of_pages', 'language', 'publishing_house', 'size', 'format', 'brief']\n",
    "data.columns = columns"
   ]
  },
  {
   "cell_type": "code",
   "execution_count": 4,
   "metadata": {},
   "outputs": [],
   "source": [
    "nan_value = float(\"NaN\")\n",
    "data.replace(\"\", nan_value, inplace=True)\n",
    "data.replace(\" \", nan_value, inplace=True)\n",
    "data.dropna(inplace=True)"
   ]
  },
  {
   "cell_type": "code",
   "execution_count": 5,
   "metadata": {},
   "outputs": [],
   "source": [
    "books = pd.DataFrame(data['brief'])\n",
    "genre = pd.DataFrame(data['category'])"
   ]
  },
  {
   "cell_type": "code",
   "execution_count": 6,
   "metadata": {},
   "outputs": [
    {
     "name": "stdout",
     "output_type": "stream",
     "text": [
      "4994\n",
      "4994\n"
     ]
    },
    {
     "data": {
      "text/html": [
       "<div>\n",
       "<style scoped>\n",
       "    .dataframe tbody tr th:only-of-type {\n",
       "        vertical-align: middle;\n",
       "    }\n",
       "\n",
       "    .dataframe tbody tr th {\n",
       "        vertical-align: top;\n",
       "    }\n",
       "\n",
       "    .dataframe thead th {\n",
       "        text-align: right;\n",
       "    }\n",
       "</style>\n",
       "<table border=\"1\" class=\"dataframe\">\n",
       "  <thead>\n",
       "    <tr style=\"text-align: right;\">\n",
       "      <th></th>\n",
       "      <th>Author</th>\n",
       "      <th>title</th>\n",
       "      <th>category</th>\n",
       "      <th>links</th>\n",
       "      <th>no_of_pages</th>\n",
       "      <th>language</th>\n",
       "      <th>publishing_house</th>\n",
       "      <th>size</th>\n",
       "      <th>format</th>\n",
       "      <th>brief</th>\n",
       "    </tr>\n",
       "  </thead>\n",
       "  <tbody>\n",
       "    <tr>\n",
       "      <th>0</th>\n",
       "      <td>محمود سالم</td>\n",
       "      <td>كتاب لغز المنزل رقم 98</td>\n",
       "      <td>روايات بوليسية</td>\n",
       "      <td>https://www.arab-books.com/books/%d9%83%d8%aa%...</td>\n",
       "      <td>48</td>\n",
       "      <td>عربي</td>\n",
       "      <td>مؤسسة هنداوي</td>\n",
       "      <td>2 ميغابايت</td>\n",
       "      <td>pdf</td>\n",
       "      <td>لغز المنزل رقم محمود سالم وانطلق الجميع إلى شا...</td>\n",
       "    </tr>\n",
       "    <tr>\n",
       "      <th>1</th>\n",
       "      <td>محمود سالم</td>\n",
       "      <td>كتاب لغز الموسيقار الصغير</td>\n",
       "      <td>روايات بوليسية</td>\n",
       "      <td>https://www.arab-books.com/books/%d9%83%d8%aa%...</td>\n",
       "      <td>54</td>\n",
       "      <td>عربي</td>\n",
       "      <td>مؤسسة هنداوي</td>\n",
       "      <td>2 ميغابايت</td>\n",
       "      <td>pdf</td>\n",
       "      <td>لغز الموسيقار الصغير محمود سالم وتابعت نوسة قا...</td>\n",
       "    </tr>\n",
       "    <tr>\n",
       "      <th>2</th>\n",
       "      <td>محمود سالم</td>\n",
       "      <td>كتاب لغز الوثائق السرية</td>\n",
       "      <td>روايات بوليسية</td>\n",
       "      <td>https://www.arab-books.com/books/%d9%83%d8%aa%...</td>\n",
       "      <td>50</td>\n",
       "      <td>عربي</td>\n",
       "      <td>مؤسسة هنداوي</td>\n",
       "      <td>2 ميغابايت</td>\n",
       "      <td>pdf</td>\n",
       "      <td>لغز المستندات السرية محمود سالم عندما استيقظ ت...</td>\n",
       "    </tr>\n",
       "    <tr>\n",
       "      <th>3</th>\n",
       "      <td>هارون يحيى</td>\n",
       "      <td>كتاب التضحية عند الحيوان</td>\n",
       "      <td>كتب الأدب العربي</td>\n",
       "      <td>https://www.arab-books.com/books/%d9%83%d8%aa%...</td>\n",
       "      <td>160</td>\n",
       "      <td>عربي</td>\n",
       "      <td>عدنان أوكطار</td>\n",
       "      <td>5 ميغابايت</td>\n",
       "      <td>pdf</td>\n",
       "      <td>كتاب التضحية عند الحيوان للكاتب هارون يحيى تعت...</td>\n",
       "    </tr>\n",
       "    <tr>\n",
       "      <th>4</th>\n",
       "      <td>هارون يحيى</td>\n",
       "      <td>كتاب معجزة الذرة</td>\n",
       "      <td>كتب تطوير الذات</td>\n",
       "      <td>https://www.arab-books.com/books/%d9%83%d8%aa%...</td>\n",
       "      <td>136</td>\n",
       "      <td>عربي</td>\n",
       "      <td>عدنان أوكطار</td>\n",
       "      <td>3.41 ميغابايت</td>\n",
       "      <td>pdf</td>\n",
       "      <td>كتاب معجزة الذرة للكاتب هارون يحيى أصبح معروفا...</td>\n",
       "    </tr>\n",
       "  </tbody>\n",
       "</table>\n",
       "</div>"
      ],
      "text/plain": [
       "       Author                       title          category  \\\n",
       "0  محمود سالم     كتاب لغز المنزل رقم 98     روايات بوليسية   \n",
       "1  محمود سالم  كتاب لغز الموسيقار الصغير     روايات بوليسية   \n",
       "2  محمود سالم    كتاب لغز الوثائق السرية     روايات بوليسية   \n",
       "3  هارون يحيى   كتاب التضحية عند الحيوان   كتب الأدب العربي   \n",
       "4  هارون يحيى           كتاب معجزة الذرة    كتب تطوير الذات   \n",
       "\n",
       "                                               links  no_of_pages language  \\\n",
       "0  https://www.arab-books.com/books/%d9%83%d8%aa%...           48     عربي   \n",
       "1  https://www.arab-books.com/books/%d9%83%d8%aa%...           54     عربي   \n",
       "2  https://www.arab-books.com/books/%d9%83%d8%aa%...           50     عربي   \n",
       "3  https://www.arab-books.com/books/%d9%83%d8%aa%...          160     عربي   \n",
       "4  https://www.arab-books.com/books/%d9%83%d8%aa%...          136     عربي   \n",
       "\n",
       "  publishing_house           size format  \\\n",
       "0     مؤسسة هنداوي     2 ميغابايت    pdf   \n",
       "1     مؤسسة هنداوي     2 ميغابايت    pdf   \n",
       "2     مؤسسة هنداوي     2 ميغابايت    pdf   \n",
       "3     عدنان أوكطار     5 ميغابايت    pdf   \n",
       "4     عدنان أوكطار  3.41 ميغابايت    pdf   \n",
       "\n",
       "                                               brief  \n",
       "0  لغز المنزل رقم محمود سالم وانطلق الجميع إلى شا...  \n",
       "1  لغز الموسيقار الصغير محمود سالم وتابعت نوسة قا...  \n",
       "2  لغز المستندات السرية محمود سالم عندما استيقظ ت...  \n",
       "3  كتاب التضحية عند الحيوان للكاتب هارون يحيى تعت...  \n",
       "4  كتاب معجزة الذرة للكاتب هارون يحيى أصبح معروفا...  "
      ]
     },
     "execution_count": 6,
     "metadata": {},
     "output_type": "execute_result"
    }
   ],
   "source": [
    "print (len(books))\n",
    "print (len(genre))\n",
    "#genre.head()\n",
    "data.head()\n",
    "#data['brief'][5956]"
   ]
  },
  {
   "cell_type": "code",
   "execution_count": 7,
   "metadata": {},
   "outputs": [
    {
     "data": {
      "text/plain": [
       "array(['روايات بوليسية', 'كتب الأدب العربي', 'كتب تطوير الذات',\n",
       "       'كتب اسلامية', 'الثقافة العامة', 'كتب الفلسفة والمنطق',\n",
       "       'كتب أدب السجون', 'العلوم السياسية والاستراتيجية', 'الأدب',\n",
       "       'علوم اللغة', 'العقيدة', 'كتب متنوعة', 'أعلام وشخصيات',\n",
       "       'اللغة العربية', 'كتب الأدب', 'كتب الأطفال',\n",
       "       'كتب القصص القصيرة المترجمة', 'كتب الروايات العالمية المترجمة',\n",
       "       'البرمجة والتصاميم', 'كتب أصول الفقه', 'كتب التاريخ',\n",
       "       'كتب السياسة', 'الخيال العلمي', 'كتب علم النفس',\n",
       "       'كتب روايات عربية', 'كتب أساطير', 'كتب التنمية الذاتية', 'تفاسير',\n",
       "       'الجغرافيا', 'علوم القرآن الكريم والسنة النبوية',\n",
       "       'كتب السيرة النبوية', 'كتب فقه المرأة المسلمة', 'الحديث',\n",
       "       'التنمية الذهنية', 'كتب النحو والصرف', 'كتب النقد والبلاغة',\n",
       "       'كتب أدب الرحلات', 'كتب إدارة الأعمال', 'رمضانيات', 'الرياضيات',\n",
       "       'الأحياء', 'الفن', 'الفيزياء', 'الفلك', 'الكيمياء', 'علوم الحاسب',\n",
       "       'كتب التاريخ الإسلامي', 'الرياضات المائية والتجديف',\n",
       "       'كتب و دواوين الشعر العربي', 'الرد على العلمانية والليبرالية',\n",
       "       'كتب تفاسير', 'كتب فتاوي إسلامية', 'كتب علوم القرآن',\n",
       "       'القرآن الكريم', 'المحاسبة', 'كتب مسرحيات عربية', 'الطب',\n",
       "       'كتب الأدب العالمي المترجم', 'كتب التاريخ القديم',\n",
       "       'كتب التاريخ الحديث', 'كتب المذاهب الإسلامية', 'كتب القصص القصيرة',\n",
       "       'كتب العلوم الإنسانية', 'تفسير الأحلام',\n",
       "       'كتب المسرحيات العالمية المترجمة', 'قصص أطفال', 'كتب تعليم برمجة',\n",
       "       'كتب علم الإجتماع', 'كتب طبية', 'كتب مقارنة الأديان',\n",
       "       'كتب انجليزية', 'كتب تاريخ اوروبا', 'كتب تاريخ الأندلس',\n",
       "       'كتب مالية واقتصاد'], dtype=object)"
      ]
     },
     "execution_count": 7,
     "metadata": {},
     "output_type": "execute_result"
    }
   ],
   "source": [
    "genre['category'].unique()"
   ]
  },
  {
   "cell_type": "code",
   "execution_count": 8,
   "metadata": {},
   "outputs": [],
   "source": [
    "from sklearn.preprocessing import LabelEncoder\n",
    "\n",
    "feat = ['category']\n",
    "for x in feat:\n",
    "    le = LabelEncoder()\n",
    "    le.fit(list(genre[x].values))\n",
    "    genre[x] = le.transform(list(genre[x]))\n",
    "    "
   ]
  },
  {
   "cell_type": "code",
   "execution_count": 9,
   "metadata": {
    "scrolled": true
   },
   "outputs": [
    {
     "data": {
      "text/plain": [
       "array([25, 38, 59, 35,  5, 49, 31, 14,  2, 28, 13, 70,  0, 20, 36, 39, 51,\n",
       "       45,  3, 33, 40, 46,  8, 65, 62, 32, 44, 22,  6, 27, 47, 68,  7,  4,\n",
       "       54, 55, 30, 34, 24, 11,  1, 16, 17, 15, 19, 26, 41, 10, 73,  9, 61,\n",
       "       67, 66, 18, 21, 71, 12, 37, 43, 42, 52, 50, 48, 23, 53, 29, 60, 64,\n",
       "       63, 72, 56, 58, 57, 69], dtype=int64)"
      ]
     },
     "execution_count": 9,
     "metadata": {},
     "output_type": "execute_result"
    }
   ],
   "source": [
    "genre['category'].unique()"
   ]
  },
  {
   "cell_type": "code",
   "execution_count": 10,
   "metadata": {
    "scrolled": true
   },
   "outputs": [
    {
     "data": {
      "text/plain": [
       "'أعلام وشخصيات'"
      ]
     },
     "execution_count": 10,
     "metadata": {},
     "output_type": "execute_result"
    }
   ],
   "source": [
    "le.inverse_transform([0])[0]"
   ]
  },
  {
   "cell_type": "code",
   "execution_count": 11,
   "metadata": {},
   "outputs": [],
   "source": [
    "from sklearn.feature_extraction.text import TfidfVectorizer"
   ]
  },
  {
   "cell_type": "code",
   "execution_count": 12,
   "metadata": {},
   "outputs": [
    {
     "data": {
      "text/plain": [
       "(4994, 90759)"
      ]
     },
     "execution_count": 12,
     "metadata": {},
     "output_type": "execute_result"
    }
   ],
   "source": [
    "vectorizer = TfidfVectorizer(use_idf = True, smooth_idf = True, sublinear_tf = True)\n",
    "brief_vectors = vectorizer.fit_transform(books['brief'])\n",
    "brief_vectors.shape"
   ]
  },
  {
   "cell_type": "code",
   "execution_count": 13,
   "metadata": {},
   "outputs": [],
   "source": [
    "from sklearn.naive_bayes import MultinomialNB\n",
    "from sklearn import metrics\n",
    "from sklearn.model_selection import StratifiedKFold, cross_val_score, train_test_split "
   ]
  },
  {
   "cell_type": "code",
   "execution_count": 14,
   "metadata": {
    "scrolled": true
   },
   "outputs": [],
   "source": [
    "X_train, X_test, y_train, y_test = train_test_split(brief_vectors, genre['category'], test_size=0.02)"
   ]
  },
  {
   "cell_type": "code",
   "execution_count": 15,
   "metadata": {},
   "outputs": [
    {
     "name": "stdout",
     "output_type": "stream",
     "text": [
      "(4894, 90759)\n",
      "(4894,)\n",
      "(100, 90759)\n",
      "(100,)\n"
     ]
    }
   ],
   "source": [
    "print (X_train.shape)\n",
    "print (y_train.shape)\n",
    "print (X_test.shape)\n",
    "print (y_test.shape)"
   ]
  },
  {
   "cell_type": "markdown",
   "metadata": {},
   "source": [
    "## Gaussian NB"
   ]
  },
  {
   "cell_type": "code",
   "execution_count": 16,
   "metadata": {},
   "outputs": [
    {
     "name": "stdout",
     "output_type": "stream",
     "text": [
      "0.29141149510714726\n",
      "0.6\n"
     ]
    }
   ],
   "source": [
    "clf = MultinomialNB(alpha=.45)\n",
    "clf.fit(X_train, y_train)\n",
    "pred = clf.predict(X_test)\n",
    "print (metrics.f1_score(y_test, pred, average='macro'))\n",
    "print (metrics.accuracy_score(y_test, pred))"
   ]
  },
  {
   "cell_type": "markdown",
   "metadata": {},
   "source": [
    "## Logistic Regression"
   ]
  },
  {
   "cell_type": "code",
   "execution_count": 17,
   "metadata": {},
   "outputs": [
    {
     "name": "stdout",
     "output_type": "stream",
     "text": [
      "0.4156663939535609\n",
      "0.69\n"
     ]
    }
   ],
   "source": [
    "from sklearn import linear_model\n",
    "clf = linear_model.LogisticRegression(solver= 'sag',max_iter=200,random_state=450)\n",
    "clf.fit(X_train, y_train)\n",
    "pred = clf.predict(X_test)\n",
    "print (metrics.f1_score(y_test, pred, average='macro'))\n",
    "print (metrics.accuracy_score(y_test, pred))"
   ]
  },
  {
   "cell_type": "code",
   "execution_count": 18,
   "metadata": {},
   "outputs": [
    {
     "name": "stdout",
     "output_type": "stream",
     "text": [
      "(1, 90759)\n"
     ]
    }
   ],
   "source": [
    "text = ['لغز المنزل رقم محمود سالم وانطلق ']\n",
    "#text = list(text)\n",
    "s = (vectorizer.transform(text))\n",
    "print (s.shape)\n",
    "d = (clf.predict(s))"
   ]
  },
  {
   "cell_type": "code",
   "execution_count": 19,
   "metadata": {},
   "outputs": [
    {
     "data": {
      "text/plain": [
       "'روايات بوليسية'"
      ]
     },
     "execution_count": 19,
     "metadata": {},
     "output_type": "execute_result"
    }
   ],
   "source": [
    "le.inverse_transform(d)[0]"
   ]
  },
  {
   "cell_type": "markdown",
   "metadata": {},
   "source": [
    "## SVM"
   ]
  },
  {
   "cell_type": "code",
   "execution_count": 23,
   "metadata": {},
   "outputs": [],
   "source": [
    "from sklearn import svm"
   ]
  },
  {
   "cell_type": "code",
   "execution_count": 24,
   "metadata": {},
   "outputs": [
    {
     "name": "stdout",
     "output_type": "stream",
     "text": [
      "Accuracy : 0.69\n"
     ]
    }
   ],
   "source": [
    "model = svm.SVC()\n",
    "model.fit(X_train, y_train)\n",
    "print(\"Accuracy :\", model.score(X_test, y_test))"
   ]
  },
  {
   "cell_type": "code",
   "execution_count": 25,
   "metadata": {},
   "outputs": [
    {
     "name": "stdout",
     "output_type": "stream",
     "text": [
      "(1, 90759)\n"
     ]
    }
   ],
   "source": [
    "text = ['لغز المنزل رقم محمود سالم وانطلق ']\n",
    "#text = list(text)\n",
    "s = (vectorizer.transform(text))\n",
    "#s = vectorizer.fit_transform(df)\n",
    "print (s.shape)\n",
    "d = (clf.predict(s))"
   ]
  },
  {
   "cell_type": "code",
   "execution_count": 26,
   "metadata": {},
   "outputs": [
    {
     "data": {
      "text/plain": [
       "'روايات بوليسية'"
      ]
     },
     "execution_count": 26,
     "metadata": {},
     "output_type": "execute_result"
    }
   ],
   "source": [
    "le.inverse_transform(d)[0]"
   ]
  },
  {
   "cell_type": "markdown",
   "metadata": {},
   "source": [
    "## Neural Network Using Keras"
   ]
  },
  {
   "cell_type": "code",
   "execution_count": 27,
   "metadata": {},
   "outputs": [],
   "source": [
    "import tensorflow as tf\n",
    "import tensorflow.keras as keras"
   ]
  },
  {
   "cell_type": "code",
   "execution_count": 28,
   "metadata": {},
   "outputs": [],
   "source": [
    "model = keras.models.Sequential()\n",
    "\n",
    "model.add(keras.layers.Flatten())\n",
    "model.add(keras.layers.Dense(128, activation = 'relu'))\n",
    "model.add(keras.layers.Dense(128, activation = 'relu'))\n",
    "model.add(keras.layers.Dense(80, activation = 'softmax'))\n",
    "\n",
    "model.compile(optimizer = 'adam',\n",
    "              loss = 'sparse_categorical_crossentropy',\n",
    "               metrics = ['accuracy'])"
   ]
  },
  {
   "cell_type": "code",
   "execution_count": 29,
   "metadata": {},
   "outputs": [
    {
     "name": "stdout",
     "output_type": "stream",
     "text": [
      "164/164 [==============================] - 13s 77ms/step - loss: 2.2878 - accuracy: 0.4824\n"
     ]
    },
    {
     "data": {
      "text/plain": [
       "<tensorflow.python.keras.callbacks.History at 0x137a4ba2a00>"
      ]
     },
     "execution_count": 29,
     "metadata": {},
     "output_type": "execute_result"
    }
   ],
   "source": [
    "X_train = X_train.toarray()\n",
    "model.fit(X_train, y_train, epochs = 1, batch_size = 30)"
   ]
  },
  {
   "cell_type": "code",
   "execution_count": 30,
   "metadata": {},
   "outputs": [
    {
     "name": "stdout",
     "output_type": "stream",
     "text": [
      "4/4 [==============================] - 0s 13ms/step - loss: 1.3563 - accuracy: 0.6800\n",
      "Loss : 1.3563117980957031\n",
      "Accuracy : 0.6800000071525574\n"
     ]
    }
   ],
   "source": [
    "X_test = X_test.toarray()\n",
    "loss, accuracy = model.evaluate(X_test,y_test)\n",
    "print(\"Loss :\", loss)\n",
    "print(\"Accuracy :\", accuracy)"
   ]
  },
  {
   "cell_type": "code",
   "execution_count": 31,
   "metadata": {},
   "outputs": [
    {
     "data": {
      "text/plain": [
       "'كتب الروايات العالمية المترجمة'"
      ]
     },
     "execution_count": 31,
     "metadata": {},
     "output_type": "execute_result"
    }
   ],
   "source": [
    "predection = model.predict(X_test)\n",
    "le.inverse_transform([np.argmax(predection[0])])[0]"
   ]
  },
  {
   "cell_type": "markdown",
   "metadata": {},
   "source": [
    "## Neural Network Sklearn"
   ]
  },
  {
   "cell_type": "code",
   "execution_count": 20,
   "metadata": {},
   "outputs": [
    {
     "name": "stdout",
     "output_type": "stream",
     "text": [
      "0.4144838350055741\n",
      "0.71\n"
     ]
    }
   ],
   "source": [
    "from sklearn.neural_network import MLPClassifier\n",
    "clf = MLPClassifier(activation='logistic', alpha=0.00003, batch_size='auto',\n",
    "                   beta_1=0.9, beta_2=0.999, early_stopping=True,\n",
    "                   epsilon=1e-08, hidden_layer_sizes=(20,), learning_rate='constant',\n",
    "                   learning_rate_init=0.003, max_iter=200, momentum=0.9,\n",
    "                   nesterovs_momentum=True, power_t=0.5, random_state=1, shuffle=True,\n",
    "                   solver='adam', tol=0.0001, validation_fraction=0.1, verbose=False,\n",
    "                   warm_start=False)\n",
    "clf.fit(X_train, y_train) \n",
    "pred = clf.predict(X_test)\n",
    "print (metrics.f1_score(y_test, pred, average='macro'))\n",
    "print (metrics.accuracy_score(y_test, pred))"
   ]
  },
  {
   "cell_type": "code",
   "execution_count": 21,
   "metadata": {},
   "outputs": [
    {
     "name": "stdout",
     "output_type": "stream",
     "text": [
      "(1, 90759)\n"
     ]
    }
   ],
   "source": [
    "text = ['لغز المنزل رقم محمود سالم وانطلق ']\n",
    "#text = list(text)\n",
    "s = (vectorizer.transform(text))\n",
    "#s = vectorizer.fit_transform(df)\n",
    "print (s.shape)\n",
    "d = (clf.predict(s))"
   ]
  },
  {
   "cell_type": "code",
   "execution_count": 22,
   "metadata": {},
   "outputs": [
    {
     "data": {
      "text/plain": [
       "'روايات بوليسية'"
      ]
     },
     "execution_count": 22,
     "metadata": {},
     "output_type": "execute_result"
    }
   ],
   "source": [
    "le.inverse_transform(d)[0]"
   ]
  }
 ],
 "metadata": {
  "kernelspec": {
   "display_name": "Python 3",
   "language": "python",
   "name": "python3"
  },
  "language_info": {
   "codemirror_mode": {
    "name": "ipython",
    "version": 3
   },
   "file_extension": ".py",
   "mimetype": "text/x-python",
   "name": "python",
   "nbconvert_exporter": "python",
   "pygments_lexer": "ipython3",
   "version": "3.8.3"
  }
 },
 "nbformat": 4,
 "nbformat_minor": 2
}
