{
 "cells": [
  {
   "cell_type": "code",
   "execution_count": 1,
   "id": "1c0124f5",
   "metadata": {
    "scrolled": false
   },
   "outputs": [],
   "source": [
    "from textblob_ar import TextBlob\n",
    "from textblob_ar import TextSimilarity\n",
    "# from textblob_ar.pos_tagger import StanfordPOSTagger\n",
    "# import naftawayh.wordtag as wordtag\n",
    "import numpy as np\n",
    "import pandas as pd\n",
    "import gensim\n",
    "import re"
   ]
  },
  {
   "cell_type": "code",
   "execution_count": 2,
   "id": "926c0881",
   "metadata": {},
   "outputs": [],
   "source": [
    "data = pd.read_csv('scrapping.csv',encoding = \"utf-8\")"
   ]
  },
  {
   "cell_type": "code",
   "execution_count": 3,
   "id": "d30ddf3b",
   "metadata": {},
   "outputs": [],
   "source": [
    "columns = ['Author', 'title', 'category',  'links', 'no_of_pages', 'language', 'publishing_house', 'size', 'format', 'brief']\n",
    "data.columns = columns"
   ]
  },
  {
   "cell_type": "code",
   "execution_count": 4,
   "id": "309822d4",
   "metadata": {},
   "outputs": [],
   "source": [
    "nan_value = float(\"NaN\")\n",
    "data.replace(\"\", nan_value, inplace=True)\n",
    "data.replace(\" \", nan_value, inplace=True)\n",
    "data = data.astype(str)"
   ]
  },
  {
   "cell_type": "code",
   "execution_count": 5,
   "id": "411ae723",
   "metadata": {
    "scrolled": false
   },
   "outputs": [],
   "source": [
    "sim = TextSimilarity()"
   ]
  },
  {
   "cell_type": "code",
   "execution_count": 6,
   "id": "7dc1b038",
   "metadata": {
    "scrolled": true
   },
   "outputs": [
    {
     "data": {
      "text/plain": [
       "0.9512200355529785"
      ]
     },
     "execution_count": 6,
     "metadata": {},
     "output_type": "execute_result"
    }
   ],
   "source": [
    "sent1 = 'ما هي كتب طه حسين'\n",
    "sent2 = 'ما هي مؤلفات طه حسين'\n",
    "sim.similarity(sent1, sent2)"
   ]
  },
  {
   "cell_type": "code",
   "execution_count": 7,
   "id": "2299d450",
   "metadata": {},
   "outputs": [],
   "source": [
    "def similarTo(column, value):\n",
    "    result = \"\"\n",
    "    m = 0.0\n",
    "    for val in data[column]:\n",
    "        if(sim.similarity(val, value) > m):\n",
    "            m = sim.similarity(val, value)\n",
    "            result = val\n",
    "    return (result,m)"
   ]
  },
  {
   "cell_type": "code",
   "execution_count": 8,
   "id": "4da78120",
   "metadata": {},
   "outputs": [],
   "source": [
    "def getAllBooksOfAuthor(AuthorName):\n",
    "    auther = similarTo(\"Author\",AuthorName)[0]\n",
    "    return data[data['Author'] == auther]['title'].tolist()\n",
    "\n",
    "def getAllBooksOfCategory(CategoryName):\n",
    "    category = similarTo(\"category\",CategoryName)[0]\n",
    "    return data[data['category'] == category]['title'].tolist()\n",
    "    \n",
    "def getBookCategory(BookTitle):\n",
    "    title = similarTo(\"title\",BookTitle)[0]\n",
    "    return data[data['title'] == title]['category'].tolist()\n",
    "    \n",
    "def getBookLink(BookTitle):\n",
    "    title = similarTo(\"title\",BookTitle)[0]\n",
    "    return data[data['title'] == title]['links'].tolist()\n",
    "\n",
    "def getBookAuthor(BookTitle):\n",
    "    title = similarTo(\"title\",BookTitle)[0]\n",
    "    return data[data['title'] == title]['Author'].tolist()\n",
    "    \n",
    "def getBookLanguage(BookTitle):\n",
    "    title = similarTo(\"title\",BookTitle)[0]\n",
    "    return data[data['title'] == title]['language'].tolist()\n",
    "    \n",
    "def getPublishingHouse(BookTitle):\n",
    "    title = similarTo(\"title\",BookTitle)[0]\n",
    "    return data[data['title'] == title]['publishing_house'].tolist()\n",
    "    \n",
    "def getBookBrief(BookTitle):\n",
    "    title = similarTo(\"title\",BookTitle)[0]\n",
    "    return data[data['title'] == title]['brief'].tolist()\n",
    "    \n",
    "def getAllBooksOfPublishingHouse(PuplishingHouseName):\n",
    "    publishing_house = similarTo(\"publishing_house\",PuplishingHouseName)[0]\n",
    "    return data[data['publishing_house'] == publishing_house]['title'].tolist()"
   ]
  },
  {
   "cell_type": "code",
   "execution_count": 9,
   "id": "d999b603",
   "metadata": {
    "scrolled": true
   },
   "outputs": [
    {
     "name": "stderr",
     "output_type": "stream",
     "text": [
      "/home/khaled57/miniconda3/lib/python3.8/site-packages/scipy/spatial/distance.py:728: RuntimeWarning: invalid value encountered in float_scalars\n",
      "  dist = 1.0 - uv / np.sqrt(uu * vv)\n"
     ]
    },
    {
     "data": {
      "text/plain": [
       "('كتاب التضحية عند الحيوان ', 0.7849239110946655)"
      ]
     },
     "execution_count": 9,
     "metadata": {},
     "output_type": "execute_result"
    }
   ],
   "source": [
    "# getAllBooksOfAuthor(\"محمد علي باكثير مؤلفات كتاب\")\n",
    "similarTo(\"title\",\"اعرض لي ملخص كتاب التضحية في الحيوان\")\n",
    "# getAllBooksOfCategory(\"دينية\")\n",
    "# getBookCategory(\"كتاب الحياة في سبيل الله\")\n",
    "# getBookLink(\"كتاب الحياة في سبيل الله\")\n",
    "# getBookAuthor(\"كتاب الحياة في سبيل الله\")\n",
    "# getBookLanguage(\"كتاب الحياة في سبيل الله\")\n",
    "# getPublishingHouse(\"كتاب الحياة في سبيل الله\")\n",
    "# getBookBrief(\"كتاب الحياة في سبيل الله\")\n",
    "# getAllBooksOfPublishingHouse(\"عدنان أوكطار\")"
   ]
  },
  {
   "cell_type": "code",
   "execution_count": 10,
   "id": "1df0d63f",
   "metadata": {},
   "outputs": [],
   "source": [
    "questions = {}\n",
    "questions[\"من مؤلف كتاب\"] = \"getBookAuthor\"\n",
    "questions[\"مؤلف كتاب\"] = \"getBookAuthor\"\n",
    "questions[\"كاتب كتاب\"] = \"getBookAuthor\"\n",
    "questions[\"ما هو اسم كاتب كتاب \"] = \"getBookAuthor\"\n",
    "questions[\"ما هي مؤلفات الكاتب\"] = \"getAllBooksOfAuthor\"\n",
    "questions[\"ما هي أعمال الكاتب\"] = \"getAllBooksOfAuthor\"\n",
    "questions[\"ما هي أعمال الروائي\"] = \"getAllBooksOfAuthor\"\n",
    "questions[\"أعمال الأديب\"] = \"getAllBooksOfAuthor\"\n",
    "questions[\"أعمال الكاتب\"] = \"getAllBooksOfAuthor\"\n",
    "questions[\"كتب الكاتب\"] = \"getAllBooksOfAuthor\"\n",
    "questions[\"ما هي كتب الكاتب\"] = \"getAllBooksOfAuthor\"\n",
    "questions[\"الي اي قسم ينتمي كتاب\"] = \"getBookCategory\"\n",
    "questions[\"قسم كتاب\"] = \"getBookCategory\"\n",
    "questions[\"في اي قسم يوجد كتاب\"] = \"getBookCategory\"\n",
    "questions[\"ما هو تصنيف الكتاب\"] = \"getBookCategory\"\n",
    "questions[\"اعرض لي كتب من تصنيف\"] = \"getAllBooksOfCategory\"\n",
    "questions[\"اعرض لي كتب من قسم\"] = \"getAllBooksOfCategory\"\n",
    "questions[\"اعرض لي ملخص كتاب\"] = \"getBookBrief\"\n",
    "questions[\"نبذة عن كتاب\"] = \"getBookBrief\"\n",
    "questions[\"نبذه سريعة عن الكتاب\"] = \"getBookBrief\"\n",
    "questions[\"تلخيص لكتاب\"] = \"getBookBrief\"\n",
    "questions[\"لينك تحميل كتاب\"] = \"getBookLink\"\n",
    "questions[\"تحميل كتاب\"] = \"getBookLink\"\n",
    "questions[\"اريد تحميل كتاب\"] = \"getBookLink\"\n",
    "questions[\"ما هي لغة الكتاب\"] = \"getBookLanguage\"\n",
    "questions[\"كتب باللغة\"] = \"getAllBooksOfLanguage\"\n",
    "questions[\"في اي دار تم نشر الكتاب\"] = \"getPublishingHouse\"\n",
    "questions[\"ما هي دار نشر الكتاب\"] = \"getPublishingHouse\"\n",
    "questions[\"ما هي الدار الناشرة \"] = \"getPublishingHouse\"\n",
    "questions[\"دار نشر الكتاب\"] = \"getPublishingHouse\"\n",
    "questions[\"ما هي كتب دار نشر\"] = \"getAllBooksOfPublishingHouse\"\n",
    "questions[\"ما هي أعمال دار نشر\"] = \"getAllBooksOfPublishingHouse\"\n",
    "\n",
    "\n",
    "def questionSimilarTo(question):\n",
    "    result = \"\"\n",
    "    m = 0.0\n",
    "    for quest in questions:\n",
    "        if(sim.similarity(quest, question) > m):\n",
    "            m = sim.similarity(quest, question)\n",
    "            result = quest\n",
    "    return (result,m)"
   ]
  },
  {
   "cell_type": "code",
   "execution_count": 11,
   "id": "f0113740",
   "metadata": {},
   "outputs": [
    {
     "data": {
      "text/plain": [
       "('ما هو اسم كاتب كتاب ', 0.9127009510993958)"
      ]
     },
     "execution_count": 11,
     "metadata": {},
     "output_type": "execute_result"
    }
   ],
   "source": [
    "questionSimilarTo(\"ما هو اسم كاتب كتاب التضحية في الحيوان\")\n",
    "#questions[questionSimilarTo(\"ما هو اسم كاتب كتاب التضحية في الحيوان\")[0]]"
   ]
  },
  {
   "cell_type": "code",
   "execution_count": 12,
   "id": "12e04a14",
   "metadata": {},
   "outputs": [],
   "source": [
    "def removeQuestion(query,question_words):\n",
    "    blob = TextBlob(query)\n",
    "    querywords = blob.tokens\n",
    "    resultwords  = [word for word in querywords if word not in question_words]\n",
    "    result = ' '.join(resultwords)\n",
    "    return result"
   ]
  },
  {
   "cell_type": "code",
   "execution_count": 13,
   "id": "6ff6ff2c",
   "metadata": {
    "scrolled": false
   },
   "outputs": [
    {
     "name": "stdout",
     "output_type": "stream",
     "text": [
      "ما هي كتب دار نشر getAllBooksOfPublishingHouse\n",
      "getAllBooksOfPublishingHouse('مكتبة مصر')\n"
     ]
    }
   ],
   "source": [
    "inpt = \"ما هي كتب دار نشر مكتبة مصر\"\n",
    "nearest_question = questionSimilarTo(inpt)[0]\n",
    "inpt = removeQuestion(inpt,TextBlob(nearest_question).tokens)\n",
    "func = questions[nearest_question]\n",
    "print(nearest_question,func)\n",
    "x = \"\"+func+\"(\"+\"'\"+inpt+\"'\"+\")\"\n",
    "print(x)\n",
    "# eval(x)"
   ]
  },
  {
   "cell_type": "code",
   "execution_count": 14,
   "id": "d514184a",
   "metadata": {},
   "outputs": [
    {
     "name": "stdout",
     "output_type": "stream",
     "text": [
      "('على أحمد باكثير', 0.8893751502037048)\n"
     ]
    }
   ],
   "source": [
    "auther = similarTo(\"Author\",\"ما هي مؤلفات أحمد بعنغتال علي سببيسلسل باكثير\")\n",
    "print(auther)"
   ]
  },
  {
   "cell_type": "code",
   "execution_count": 15,
   "id": "ad9f9748",
   "metadata": {
    "scrolled": true
   },
   "outputs": [
    {
     "name": "stdout",
     "output_type": "stream",
     "text": [
      "  (0, 63456)\t0.020050690004285464\n",
      "  (0, 78425)\t0.04944477501629716\n",
      "  (0, 103303)\t0.04031911613702807\n",
      "  (0, 12962)\t0.08069193734922747\n",
      "  (0, 44471)\t0.07112687319525246\n",
      "  (0, 51357)\t0.1327585472991374\n",
      "  (0, 82873)\t0.053673315764323395\n",
      "  (0, 10138)\t0.08763191760178496\n",
      "  (0, 42940)\t0.06024777240813055\n",
      "  (0, 93680)\t0.1512188869424437\n",
      "  (0, 48727)\t0.1125278006395439\n",
      "  (0, 100013)\t0.1512188869424437\n",
      "  (0, 37256)\t0.13957170940044708\n",
      "  (0, 46858)\t0.10946419221514411\n",
      "  (0, 33625)\t0.09713106942063741\n",
      "  (0, 9839)\t0.09817078195615563\n",
      "  (0, 94852)\t0.11525865907608358\n",
      "  (0, 29072)\t0.11736181608023091\n",
      "  (0, 31841)\t0.14440572484113406\n",
      "  (0, 15792)\t0.06968864414846715\n",
      "  (0, 24402)\t0.10130604646048871\n",
      "  (0, 100736)\t0.04525249198942084\n",
      "  (0, 87046)\t0.1512188869424437\n",
      "  (0, 14004)\t0.11338969854983057\n",
      "  (0, 28533)\t0.1512188869424437\n",
      "  :\t:\n",
      "  (5955, 33192)\t0.07987773320224671\n",
      "  (5955, 5172)\t0.028888154929134702\n",
      "  (5955, 19195)\t0.09517657759123928\n",
      "  (5955, 63436)\t0.037608041784544556\n",
      "  (5955, 972)\t0.0465084516365066\n",
      "  (5955, 17447)\t0.07995637942935829\n",
      "  (5955, 75275)\t0.06737424704187474\n",
      "  (5955, 84672)\t0.04690533735909504\n",
      "  (5955, 70890)\t0.03903254499853279\n",
      "  (5955, 103389)\t0.02709734272461313\n",
      "  (5955, 20784)\t0.13837417214753822\n",
      "  (5955, 21811)\t0.08194890654569711\n",
      "  (5955, 83027)\t0.04370329867122003\n",
      "  (5955, 35059)\t0.035002206058683046\n",
      "  (5955, 56017)\t0.04067407283722318\n",
      "  (5955, 4672)\t0.05510265850997363\n",
      "  (5955, 64265)\t0.0520263139749435\n",
      "  (5955, 194)\t0.043448941779978684\n",
      "  (5955, 63456)\t0.015244625096672244\n",
      "  (5955, 78724)\t0.026414846002490968\n",
      "  (5955, 61051)\t0.07830544894754102\n",
      "  (5955, 55806)\t0.10875688283639601\n",
      "  (5955, 63348)\t0.02256034315426335\n",
      "  (5955, 6531)\t0.07465306931813485\n",
      "  (5956, 0)\t1.0\n"
     ]
    }
   ],
   "source": [
    "from sklearn.feature_extraction.text import TfidfVectorizer\n",
    "\n",
    "vectorizer = TfidfVectorizer(ngram_range=(1, 2), min_df=3, max_df=0.9, sublinear_tf=True)\n",
    "\n",
    "vectorizer.fit(data['brief'])\n",
    "\n",
    "x_train = vectorizer.transform(data['brief'])\n",
    "\n",
    "x_test = vectorizer.transform(data['brief'])\n",
    "\n",
    "import pandas as pd\n",
    "from sklearn.feature_extraction.text import TfidfVectorizer\n",
    "\n",
    "# valid_words=[\"this three stooges flick is at a tie with ......\"]\n",
    "\n",
    "tfidf_vec = TfidfVectorizer()\n",
    "tfidf_matrix = tfidf_vec.fit_transform(data['brief'])\n",
    "print(tfidf_matrix)"
   ]
  },
  {
   "cell_type": "code",
   "execution_count": 78,
   "id": "57989238",
   "metadata": {},
   "outputs": [
    {
     "data": {
      "text/plain": [
       "0             رقم\n",
       "1            مجدي\n",
       "2            تختخ\n",
       "3         التضحية\n",
       "4          الذرات\n",
       "          ...    \n",
       "5952        كافكا\n",
       "5953       الزواج\n",
       "5954    الأسبانية\n",
       "5955        الوحي\n",
       "5956          nan\n",
       "Length: 5957, dtype: object"
      ]
     },
     "execution_count": 78,
     "metadata": {},
     "output_type": "execute_result"
    }
   ],
   "source": [
    "# pd.DataFrame(tfidf_matrix.toarray(),columns = tfidf_vec.get_feature_names())\n",
    "# print(max(tfidf_matrix.toarray()))\n",
    "pd.DataFrame(tfidf_matrix.toarray(),columns = tfidf_vec.get_feature_names()).idxmax(axis=1)"
   ]
  },
  {
   "cell_type": "code",
   "execution_count": 17,
   "id": "10e6efa8",
   "metadata": {
    "scrolled": false
   },
   "outputs": [
    {
     "data": {
      "text/html": [
       "<div>\n",
       "<style scoped>\n",
       "    .dataframe tbody tr th:only-of-type {\n",
       "        vertical-align: middle;\n",
       "    }\n",
       "\n",
       "    .dataframe tbody tr th {\n",
       "        vertical-align: top;\n",
       "    }\n",
       "\n",
       "    .dataframe thead th {\n",
       "        text-align: right;\n",
       "    }\n",
       "</style>\n",
       "<table border=\"1\" class=\"dataframe\">\n",
       "  <thead>\n",
       "    <tr style=\"text-align: right;\">\n",
       "      <th></th>\n",
       "      <th>0</th>\n",
       "    </tr>\n",
       "  </thead>\n",
       "  <tbody>\n",
       "    <tr>\n",
       "      <th>0</th>\n",
       "      <td>nan</td>\n",
       "    </tr>\n",
       "    <tr>\n",
       "      <th>1</th>\n",
       "      <td>ءأتخذ</td>\n",
       "    </tr>\n",
       "    <tr>\n",
       "      <th>2</th>\n",
       "      <td>ءأرباب</td>\n",
       "    </tr>\n",
       "    <tr>\n",
       "      <th>3</th>\n",
       "      <td>ءأسجد</td>\n",
       "    </tr>\n",
       "    <tr>\n",
       "      <th>4</th>\n",
       "      <td>ءأسلمتم</td>\n",
       "    </tr>\n",
       "    <tr>\n",
       "      <th>...</th>\n",
       "      <td>...</td>\n",
       "    </tr>\n",
       "    <tr>\n",
       "      <th>111669</th>\n",
       "      <td>٩١١</td>\n",
       "    </tr>\n",
       "    <tr>\n",
       "      <th>111670</th>\n",
       "      <td>٩٥</td>\n",
       "    </tr>\n",
       "    <tr>\n",
       "      <th>111671</th>\n",
       "      <td>٩٨</td>\n",
       "    </tr>\n",
       "    <tr>\n",
       "      <th>111672</th>\n",
       "      <td>٩٩</td>\n",
       "    </tr>\n",
       "    <tr>\n",
       "      <th>111673</th>\n",
       "      <td>٩٩٤</td>\n",
       "    </tr>\n",
       "  </tbody>\n",
       "</table>\n",
       "<p>111674 rows × 1 columns</p>\n",
       "</div>"
      ],
      "text/plain": [
       "              0\n",
       "0           nan\n",
       "1         ءأتخذ\n",
       "2        ءأرباب\n",
       "3         ءأسجد\n",
       "4       ءأسلمتم\n",
       "...         ...\n",
       "111669      ٩١١\n",
       "111670       ٩٥\n",
       "111671       ٩٨\n",
       "111672       ٩٩\n",
       "111673      ٩٩٤\n",
       "\n",
       "[111674 rows x 1 columns]"
      ]
     },
     "execution_count": 17,
     "metadata": {},
     "output_type": "execute_result"
    }
   ],
   "source": [
    "# # احصل على جميع الكلمات الفريدة في الجسم\n",
    "# print(tfidf_vec.get_feature_names())\n",
    "#  # احصل على قيمة المعرف المقابلة لكل كلمة\n",
    "# print(tfidf_vec.vocabulary_)\n",
    "#  # احصل على المتجه المقابل لكل جملة\n",
    "#  # ترتيب الأرقام في المتجه هو في ترتيب معرف الكلمة\n",
    "# print(tfidf_matrix.toarray())\n",
    "pd.DataFrame(tfidf_vec.get_feature_names())"
   ]
  },
  {
   "cell_type": "code",
   "execution_count": 25,
   "id": "5b341e14",
   "metadata": {},
   "outputs": [
    {
     "name": "stdout",
     "output_type": "stream",
     "text": [
      "('لغز', 0.012597839566099911)\n",
      "('رقم', 0.012597839566099911)\n",
      "('إلى', 0.02145539604184636)\n",
      "('وهم', 0.02145539604184636)\n",
      "('للغاية', 0.02145539604184636)\n"
     ]
    }
   ],
   "source": [
    "import yake\n",
    "\n",
    "language = \"ar\"\n",
    "max_ngram_size = 1\n",
    "deduplication_thresold = 0.9\n",
    "deduplication_algo = 'seqm'\n",
    "windowSize = 1\n",
    "numOfKeywords = 5\n",
    "\n",
    "custom_kw_extractor = yake.KeywordExtractor(lan=language, n=max_ngram_size, dedupLim=deduplication_thresold, dedupFunc=deduplication_algo, windowsSize=windowSize, top=numOfKeywords)\n",
    "keywords = custom_kw_extractor.extract_keywords(data['brief'][0])\n",
    "\n",
    "for kw in keywords:\n",
    "    print(kw)\n",
    "    \n",
    "def getBookBriefKeyWords(BookTitle):\n",
    "    language = \"ar\"\n",
    "    max_ngram_size = 1\n",
    "    deduplication_thresold = 0.9\n",
    "    deduplication_algo = 'seqm'\n",
    "    windowSize = 1\n",
    "    numOfKeywords = 5\n",
    "    title = similarTo(\"title\",BookTitle)[0]\n",
    "    custom_kw_extractor = yake.KeywordExtractor(lan=language, n=max_ngram_size, dedupLim=deduplication_thresold, dedupFunc=deduplication_algo, windowsSize=windowSize, top=numOfKeywords)\n",
    "    brieff = data[data['title'] == title]['brief'].tolist()\n",
    "    keywords = custom_kw_extractor.extract_keywords(brieff[0])\n",
    "    return keywords\n"
   ]
  },
  {
   "cell_type": "code",
   "execution_count": 23,
   "id": "46063d58",
   "metadata": {},
   "outputs": [
    {
     "data": {
      "text/plain": [
       "[('التضحية', 0.027723048212101073),\n",
       " ('الحيوان', 0.03296906643512034),\n",
       " ('أجل', 0.03453831356312669),\n",
       " ('كتاب', 0.04292494563629685),\n",
       " ('الفضائل', 0.04292494563629685)]"
      ]
     },
     "execution_count": 23,
     "metadata": {},
     "output_type": "execute_result"
    }
   ],
   "source": [
    "getBookBriefKeyWords(\"التضحية في الحيوان\")"
   ]
  },
  {
   "cell_type": "code",
   "execution_count": 76,
   "id": "c353cbc5",
   "metadata": {},
   "outputs": [
    {
     "name": "stdout",
     "output_type": "stream",
     "text": [
      "في اي قسم يوجد كتاب getBookCategory\n"
     ]
    }
   ],
   "source": [
    "import tkinter as tk\n",
    "import arabic_reshaper\n",
    "from tkinter import messagebox\n",
    "from bidi.algorithm import get_display\n",
    "from tkinter import *\n",
    "from awesometkinter.bidirender import add_bidi_support, render_text\n",
    "\n",
    "\n",
    "\n",
    "master = tk.Tk()\n",
    "#master.option_add('*Font', '24')\n",
    "master.geometry('500x500')\n",
    "master.configure(bg='#ACB6E5')\n",
    "master.title(\"Question Answering Aystem\")\n",
    "\n",
    "def process(inpt):\n",
    "#     inpt = \"ما هي كتب دار نشر مكتبة مصر\"\n",
    "    nearest_question = questionSimilarTo(inpt)[0]\n",
    "    inpt = removeQuestion(inpt,TextBlob(nearest_question).tokens)\n",
    "    func = questions[nearest_question]\n",
    "    print(nearest_question,func)\n",
    "    x = \"\"+func+\"(\"+\"'\"+inpt+\"'\"+\")\"\n",
    "#     print(x)\n",
    "    return eval(x)\n",
    "        \n",
    "\n",
    "\n",
    "def enterQ():\n",
    "    stri = e1.get()\n",
    "    if stri == '':\n",
    "        return ['لا يوجد مدخل']\n",
    "    else:\n",
    "        return process(stri)\n",
    "            \n",
    "    \n",
    "\n",
    "       \n",
    "def printi():\n",
    "    bidi_text = get_display(\"Result\")\n",
    "    master = Tk()\n",
    "    master.title(bidi_text)\n",
    "    \n",
    "    scrollbar = Scrollbar(master)\n",
    "    scrollbar.pack(side=RIGHT, fill=Y)\n",
    "    t = Text(master,fg = '#0082c8', font=('Fira Sans Book', 24))\n",
    "    t.pack()\n",
    "    t.config(yscrollcommand=scrollbar.set)\n",
    "    scrollbar.config(command=t.yview)\n",
    "    getList = enterQ()\n",
    "    for x in getList:\n",
    "        reshaped_text = arabic_reshaper.reshape(x)\n",
    "        bidi_text = get_display(reshaped_text)\n",
    "        t.insert(END, bidi_text + '\\n')\n",
    "        t.insert(END, '--------------------------' + '\\n')\n",
    "    t.pack()\n",
    "    master.mainloop()\n",
    "\n",
    "\n",
    "\n",
    "\n",
    "\n",
    "tk.Label(master, text=\"Enter your query\",fg='black',bg='#ACB6E5', font=('Fira Sans Book', 24)).place(x=20, y=110)\n",
    "global e1\n",
    "global nsalText\n",
    "nsalText = tk.StringVar()\n",
    "\n",
    "\n",
    "global nsalText \n",
    "nsalText = tk.StringVar()\n",
    "labelTest = tk.Label(text=\"\", font=('Fira Sans Book', 24),bg='#ACB6E5')\n",
    "labelTest.pack(side=\"top\")\n",
    "\n",
    "\n",
    "\n",
    "e1 = tk.Entry(master,justify='right',font='any 24')\n",
    "\n",
    "e1.place(x=20, y=160,height=45, width=455)\n",
    "add_bidi_support(e1)\n",
    "tk.Button(master, text=\"search\", command=printi, height=1, width=6, font=('Fira Sans Book', 24), fg='green').place(x=180, y=270)\n",
    "\n",
    "\n",
    "master.mainloop()"
   ]
  },
  {
   "cell_type": "code",
   "execution_count": null,
   "id": "f1430acf",
   "metadata": {},
   "outputs": [],
   "source": []
  }
 ],
 "metadata": {
  "kernelspec": {
   "display_name": "Python 3",
   "language": "python",
   "name": "python3"
  },
  "language_info": {
   "codemirror_mode": {
    "name": "ipython",
    "version": 3
   },
   "file_extension": ".py",
   "mimetype": "text/x-python",
   "name": "python",
   "nbconvert_exporter": "python",
   "pygments_lexer": "ipython3",
   "version": "3.8.0"
  }
 },
 "nbformat": 4,
 "nbformat_minor": 5
}
